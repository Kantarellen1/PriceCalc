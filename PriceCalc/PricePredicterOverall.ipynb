{
 "cells": [
  {
   "cell_type": "code",
   "execution_count": 9,
   "metadata": {},
   "outputs": [
    {
     "name": "stdout",
     "output_type": "stream",
     "text": [
      "The median price change for One-family houses over the last 5 years is: 1.0%\n",
      "The predicted percentage change for One-family houses next year is: -0.7013235294118658%\n"
     ]
    }
   ],
   "source": [
    "import pandas as pd\n",
    "import numpy as np\n",
    "import torch\n",
    "from sklearn.preprocessing import StandardScaler\n",
    "from sklearn.linear_model import LinearRegression\n",
    "\n",
    "def load_data(file_path):\n",
    "    data = pd.read_csv(file_path, delimiter=';')\n",
    "    return data\n",
    "\n",
    "def filter_data_by_property_type(data, property_type):\n",
    "    filtered_data = data[data['EJKAT20'] == property_type]\n",
    "    return filtered_data\n",
    "\n",
    "def filter_data_by_year(data, years):\n",
    "    current_year = pd.Timestamp.now().year\n",
    "    start_year = current_year - years\n",
    "    filtered_data = data[data['TID'].str[:4].astype(int) >= start_year]\n",
    "    return filtered_data\n",
    "\n",
    "def calculate_median_price_change(data):\n",
    "    price_changes = data['INDHOLD'].values.reshape(-1, 1)\n",
    "    scaler = StandardScaler()\n",
    "    scaled_price_changes = scaler.fit_transform(price_changes)\n",
    "    \n",
    "    scaled_price_changes_tensor = torch.tensor(scaled_price_changes, dtype=torch.float32)\n",
    "    \n",
    "    median_price_change_tensor = torch.median(scaled_price_changes_tensor)\n",
    "    \n",
    "    median_price_change = scaler.inverse_transform(median_price_change_tensor.unsqueeze(0).numpy().reshape(1, -1))[0][0]\n",
    "    return median_price_change\n",
    "\n",
    "def predict_next_year_change(data):\n",
    "    data['Year'] = data['TID'].str[:4].astype(int)\n",
    "    X = data['Year'].values.reshape(-1, 1)\n",
    "    y = data['INDHOLD'].values\n",
    "    \n",
    "    model = LinearRegression()\n",
    "    model.fit(X, y)\n",
    "    \n",
    "    next_year = np.array([[data['Year'].max() + 1]])\n",
    "    predicted_change = model.predict(next_year)[0]\n",
    "    return predicted_change\n",
    "\n",
    "def main():\n",
    "    file_path = 'C:/Users/Kalle/Documents/GitHub/PriceCalc/EJ121.csv'  \n",
    "    property_type = 'One-family houses'  \n",
    "    years = 5  \n",
    "\n",
    "    data = load_data(file_path)\n",
    "    data = filter_data_by_property_type(data, property_type)\n",
    "    data = filter_data_by_year(data, years)\n",
    "    \n",
    "    median_price_change = calculate_median_price_change(data)\n",
    "    predicted_change = predict_next_year_change(data)\n",
    "    \n",
    "    print(f\"The median price change for {property_type} over the last {years} years is: {median_price_change}%\")\n",
    "    print(f\"The predicted percentage change for {property_type} next year is: {predicted_change}%\")\n",
    "\n",
    "if __name__ == \"__main__\":\n",
    "    main()"
   ]
  }
 ],
 "metadata": {
  "kernelspec": {
   "display_name": "sklearn-env",
   "language": "python",
   "name": "python3"
  },
  "language_info": {
   "codemirror_mode": {
    "name": "ipython",
    "version": 3
   },
   "file_extension": ".py",
   "mimetype": "text/x-python",
   "name": "python",
   "nbconvert_exporter": "python",
   "pygments_lexer": "ipython3",
   "version": "3.11.6"
  }
 },
 "nbformat": 4,
 "nbformat_minor": 2
}
